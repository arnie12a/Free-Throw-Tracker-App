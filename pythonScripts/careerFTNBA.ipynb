{
 "cells": [
  {
   "cell_type": "code",
   "execution_count": 53,
   "metadata": {},
   "outputs": [
    {
     "name": "stdout",
     "output_type": "stream",
     "text": [
      "{'Stephen Curry': 201939, 'Jared Mccain': 1642272, 'Damian Lillard': 203081, 'Reggie Miller': 397, 'Dirk Nowitzki': 1717, 'Larry Bird': 1449, 'Kyrie Irving': 202681, 'Kevin Durant': 201142, 'Chauncey Billups': 1497, 'Khris Middleton': 203114, 'Jordan Poole': 1629673, 'Danilo Gallinari': 201568, 'Trae Young': 1629027, 'Malcolm Brogdon': 203924, 'Isaiah Thomas': 202738, 'Chris Paul': 101108, 'James Harden': 201935, 'Devin Booker': 1626164, 'CJ McCollum': 203468, 'Kawhi Leonard': 202695, 'Bojan Bogdanovic': 202711, 'Klay Thompson': 202691, 'Tyrese Haliburton': 1630169, 'Cam Thomas': 1630560, 'Oscar Robertson': 600015, 'Austin Reaves': 1630559, 'Derrick White': 1628401, 'Paul George': 202331, 'Reggie Jackson': 202704, 'Shai Gilgeous-Alexander': 1628983, 'Coby White': 1629632, 'Mikal Bridges': 1628969, 'Jimmy Butler': 202710, 'Jayson Tatum': 1628369, 'Donovan Mitchell': 1628378, 'DeMar DeRozan': 201942, 'Karl-Anthony Towns': 1626157, 'Magic Johnson': 77142, 'Dennis Schroder': 203471, 'LaMelo Ball': 1630163, 'Zach LaVine': 203897, 'Jordan Clarkson': 203903, 'Kristaps Porzingis': 204001, 'Derrick Rose': 201565, 'Paul Pierce': 1718, 'Kevin Love': 201567, 'Michael Jordan': 893, 'Nikola Jokic': 203999, 'Joel Embiid': 203954, 'Russell Westbrook': 201566, 'Mike Conley': 201144, 'Gordon Hayward': 202330, 'Bradley Beal': 203078, 'Kentavious Caldwell-Pope': 203484, 'Manu Ginobili': 1938, 'Kobe Bryant': 977, 'Kyle Lowry': 200768, 'Tim Hardaway Jr.': 203501, 'Eric Gordon': 201569, 'Harrison Barnes': 203084, 'John Stockton': 304, 'Danny Green': 201980, 'Jerry West': 78497, 'Jeff Green': 201145, 'Dennis Johnson': 77141, 'Bob Cousy': 600003, 'Rudy Gay': 200752, 'Kelly Olynyk': 203482, 'Otto Porter Jr.': 203490, 'Spencer Dinwiddie': 203915, 'Brook Lopez': 201572, 'Anthony Davis': 203076, 'Jalen Green': 1630224, \"D'Angelo Russell\": 1626156, 'Jonas Valanciunas': 202685, 'Clyde Drexler': 17, 'Dejounte Murray': 1627749, 'Brandon Ingram': 1627742, 'Jrue Holiday': 201950, 'Dwyane Wade': 2548, 'Julius Erving': 76681, 'Elgin Baylor': 76127, 'Myles Turner': 1626167, 'Pascal Siakam': 1627783, 'Scottie Barnes': 1630567, 'Moses Malone': 77449, 'Al Horford': 201143, 'Bam Adebayo': 1628389, 'Jaden Ivey': 1631093, 'Julius Randle': 203944, 'Luka Doncic': 1629029, 'OG Anunoby': 1628384, 'LeBron James': 2544, 'Kareem Abdul-Jabbar': 76003, 'Karl Malone': 252, \"De'Aaron Fox\": 1628368, 'Tony Parker': 2225, 'Domantas Sabonis': 1627734, 'Scottie Pippen': 937, 'Andrew Wiggins': 203952, 'Jaylen Brown': 1627759, 'Hakeem Olajuwon': 165, 'Patrick Ewing': 121, 'Charles Barkley': 787, 'David Robinson': 764, 'Giannis Antetokounmpo': 203507, 'Zion Williamson': 1629627, 'Tim Duncan': 1495, 'Aaron Gordon': 203932, 'Rudy Gobert': 203497, 'JaVale McGee': 201580, 'Bill Russell': 78049, 'Dwight Howard': 2730, 'Clint Capela': 203991, \"Shaquille O'Neal\": 406, 'Andre Drummond': 203083, 'DeAndre Jordan': 201599, 'Wilt Chamberlain': 76375, 'Victor Wembanyama': 1641705}\n"
     ]
    }
   ],
   "source": [
    "import json\n",
    "\n",
    "# Open and read the JSON file\n",
    "with open('./tempData/playerIndex.json', 'r') as file:\n",
    "    data = json.load(file)\n",
    "\n",
    "# Print the data\n",
    "print(data)"
   ]
  },
  {
   "cell_type": "code",
   "execution_count": 54,
   "metadata": {},
   "outputs": [
    {
     "data": {
      "text/plain": [
       "304"
      ]
     },
     "execution_count": 54,
     "metadata": {},
     "output_type": "execute_result"
    }
   ],
   "source": [
    "data[\"John Stockton\"]"
   ]
  },
  {
   "cell_type": "code",
   "execution_count": 55,
   "metadata": {},
   "outputs": [],
   "source": [
    "player_percent_json = {\n",
    "    'Stephen Curry': 0.9114,\n",
    "    'Damian Lillard': 0.8990,\n",
    "    'Kyrie Irving': 0.8878,\n",
    "    'Kevin Durant': 0.8821,\n",
    "    'Jordan Poole': 0.8789,\n",
    "    'Jerry West': 0.8135,\n",
    "    'Kyle Lowry': 0.8153,\n",
    "    'James Harden': 0.8614,\n",
    "    'Devin Booker': 0.8733,\n",
    "    'Klay Thompson': 0.86,\n",
    "    'Jared Mccain': 0.875,\n",
    "    'Giannis Antetokounmpo': 0.693,\n",
    "    'Andrew Wiggins': 0.725,\n",
    "    'Jaden Ivey': 0.746,\n",
    "    'LeBron James': 0.737,\n",
    "    'Pascal Siakam': 0.763,\n",
    "    'Julius Randle': 0.753,\n",
    "    \"D'Angelo Russell\": 0.796,\n",
    "    'Anthony Davis': 0.794,\n",
    "    'Victor Wembanyama': 0.809,\n",
    "    'Trae Young': 0.873,\n",
    "    'Wilt Chamberlain': 0.511,\n",
    "    'John Stockton': 0.826,\n",
    "    \"Dirk Nowitzki\": 0.879,\n",
    "    \"Larry Bird\": 0.886,\n",
    "    \"Kawhi Leonard\": 0.86,\n",
    "    \"Tyrese Haliburton\": 0.855,\n",
    "    \"Oscar Robertson\": 0.838,\n",
    "    \"Shai Gilgeous-Alexander\": 0.862,\n",
    "    \"Coby White\": 0.865,\n",
    "    \"Jayson Tatum\": 0.84,\n",
    "    \"Jimmy Butler\": 0.843,\n",
    "    \"Donovan Mitchell\": 0.84,\n",
    "    \"DeMar DeRozan\": 0.842,\n",
    "    \"Karl-Anthony Towns\": 0.837,\n",
    "    \"Magic Johnson\": 0.848,\n",
    "    \"Dennis Schroder\": 0.836,\n",
    "    \"Derrick Rose\": 0.831,\n",
    "    \"Paul Pierce\": 0.806,\n",
    "    \"Kevin Love\": 0.828,\n",
    "    \"Michael Jordan\": 0.835,\n",
    "    \"Nikola Jokic\": 0.824,\n",
    "    \"Joel Embiid\": 0.828,\n",
    "    \"Russell Westbrook\": 0.772,\n",
    "    \"Manu Ginobili\": 0.827,\n",
    "    \"Kobe Bryant\": 0.837,\n",
    "    \"Dwyane Wade\": 0.765,\n",
    "    \"Julius Erving\": 0.777,\n",
    "    \"Elgin Baylor\": 0.78,\n",
    "    \"OG Anunoby\": 0.761,\n",
    "    \"Kareem Abdul-Jabbar\": 0.721,\n",
    "    \"Karl Malone\": 0.742,\n",
    "    \"De'Aaron Fox\": 0.746,\n",
    "    \"Tony Parker\": 0.751,\n",
    "    \"Domantas Sabonis\": 0.729,\n",
    "    \"Scottie Pippen\": 0.704,\n",
    "    \"Jaylen Brown\": 0.726,\n",
    "    \"Hakeem Olajuwon\": 0.712,\n",
    "    \"Patrick Ewing\": 0.74,\n",
    "    \"Charles Barkley\": 0.735,\n",
    "    \"David Robinson\": 0.736,\n",
    "    \"Tim Duncan\": 0.696,\n",
    "    \"JaVale McGee\": 0.604,\n",
    "    \"Bill Russell\": 0.561,\n",
    "    \"Dwight Howard\": 0.567,\n",
    "    \"Shaquille O'Neal\": 0.527,\n",
    "    \"DeAndre Jordan\": 0.475,\n",
    "    \"Wilt Chamberlain\": 0.511,\n",
    "}"
   ]
  },
  {
   "cell_type": "code",
   "execution_count": 60,
   "metadata": {},
   "outputs": [],
   "source": [
    "new_player_data = []\n",
    "for player in player_percent_json:\n",
    "    temp = {}\n",
    "    temp['PLAYER'] = player\n",
    "    temp['index'] = data[player]\n",
    "    temp['FT%'] = player_percent_json[player]\n",
    "    new_player_data.append(temp)\n",
    "new_player_data = sorted(new_player_data, key=lambda x: x['FT%'], reverse=True)\n",
    "new_player_data\n",
    "with open(\"nbaPlayerFTCareerData.json\", \"w\") as final:\n",
    "    json.dump(new_player_data, final)"
   ]
  },
  {
   "cell_type": "code",
   "execution_count": null,
   "metadata": {},
   "outputs": [],
   "source": []
  }
 ],
 "metadata": {
  "kernelspec": {
   "display_name": "Python 3",
   "language": "python",
   "name": "python3"
  },
  "language_info": {
   "codemirror_mode": {
    "name": "ipython",
    "version": 3
   },
   "file_extension": ".py",
   "mimetype": "text/x-python",
   "name": "python",
   "nbconvert_exporter": "python",
   "pygments_lexer": "ipython3",
   "version": "3.13.2"
  }
 },
 "nbformat": 4,
 "nbformat_minor": 2
}
